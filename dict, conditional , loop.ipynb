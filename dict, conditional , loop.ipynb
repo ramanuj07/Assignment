{
 "cells": [
  {
   "cell_type": "code",
   "execution_count": 1,
   "id": "fdcf5df4-faf5-4220-82b9-5b0993e16349",
   "metadata": {},
   "outputs": [],
   "source": [
    "d={}"
   ]
  },
  {
   "cell_type": "code",
   "execution_count": 2,
   "id": "40603f64-13ca-45b3-9206-1b940087d400",
   "metadata": {},
   "outputs": [
    {
     "data": {
      "text/plain": [
       "dict"
      ]
     },
     "execution_count": 2,
     "metadata": {},
     "output_type": "execute_result"
    }
   ],
   "source": [
    "type(d)"
   ]
  },
  {
   "cell_type": "code",
   "execution_count": 4,
   "id": "7bfc5129-bbbd-45cc-8f9f-b81a78cdbaf3",
   "metadata": {},
   "outputs": [],
   "source": [
    "d1={'key' : 'value'}"
   ]
  },
  {
   "cell_type": "code",
   "execution_count": 5,
   "id": "caff7e32-d43b-4966-8e12-cf1a417db80c",
   "metadata": {},
   "outputs": [],
   "source": [
    "## key abd value can be given any name but key should be unique"
   ]
  },
  {
   "cell_type": "code",
   "execution_count": 6,
   "id": "f3194bc1-29bd-4a84-b94d-69bf0e0d68cc",
   "metadata": {},
   "outputs": [
    {
     "data": {
      "text/plain": [
       "{'key': 'value'}"
      ]
     },
     "execution_count": 6,
     "metadata": {},
     "output_type": "execute_result"
    }
   ],
   "source": [
    "d1"
   ]
  },
  {
   "cell_type": "code",
   "execution_count": 7,
   "id": "495d4b2c-19b3-4fc0-98ea-5fdd2be4737c",
   "metadata": {},
   "outputs": [],
   "source": [
    "d2={'name' : \"ramanuj\", 'email id' : 'rj@gmail.com', 'phone': '232'}"
   ]
  },
  {
   "cell_type": "code",
   "execution_count": 8,
   "id": "82bbc18b-f3a8-4503-86f8-70f727c71a92",
   "metadata": {},
   "outputs": [
    {
     "data": {
      "text/plain": [
       "{'name': 'ramanuj', 'email id': 'rj@gmail.com', 'phone': '232'}"
      ]
     },
     "execution_count": 8,
     "metadata": {},
     "output_type": "execute_result"
    }
   ],
   "source": [
    "d2"
   ]
  },
  {
   "cell_type": "code",
   "execution_count": 9,
   "id": "421c4b49-104e-4c8d-9043-3c8e357a12f5",
   "metadata": {},
   "outputs": [],
   "source": [
    "d3= {234 : \"rama\" , '_wer' : 'kumar', True: 3423}"
   ]
  },
  {
   "cell_type": "code",
   "execution_count": 10,
   "id": "aea465ae-4db3-4ea7-9fa9-e69920b96181",
   "metadata": {},
   "outputs": [
    {
     "data": {
      "text/plain": [
       "dict"
      ]
     },
     "execution_count": 10,
     "metadata": {},
     "output_type": "execute_result"
    }
   ],
   "source": [
    "type(d3)"
   ]
  },
  {
   "cell_type": "code",
   "execution_count": 11,
   "id": "2e276e8f-d7c8-4484-8302-0d18a4ba5d50",
   "metadata": {},
   "outputs": [
    {
     "data": {
      "text/plain": [
       "{234: 'rama', '_wer': 'kumar', True: 3423}"
      ]
     },
     "execution_count": 11,
     "metadata": {},
     "output_type": "execute_result"
    }
   ],
   "source": [
    "d3"
   ]
  },
  {
   "cell_type": "code",
   "execution_count": 12,
   "id": "5b2cca48-6a1c-468b-874d-4aca2c6d8364",
   "metadata": {},
   "outputs": [
    {
     "data": {
      "text/plain": [
       "'rama'"
      ]
     },
     "execution_count": 12,
     "metadata": {},
     "output_type": "execute_result"
    }
   ],
   "source": [
    "d3[234]"
   ]
  },
  {
   "cell_type": "code",
   "execution_count": 13,
   "id": "472c2500-aeab-454e-8353-2d3c58512ba3",
   "metadata": {},
   "outputs": [
    {
     "data": {
      "text/plain": [
       "3423"
      ]
     },
     "execution_count": 13,
     "metadata": {},
     "output_type": "execute_result"
    }
   ],
   "source": [
    "d3[True]"
   ]
  },
  {
   "cell_type": "code",
   "execution_count": 14,
   "id": "0d421c0c-c802-4d7a-91b9-a8d9cb769b83",
   "metadata": {},
   "outputs": [
    {
     "data": {
      "text/plain": [
       "3423"
      ]
     },
     "execution_count": 14,
     "metadata": {},
     "output_type": "execute_result"
    }
   ],
   "source": [
    "d3[1]"
   ]
  },
  {
   "cell_type": "code",
   "execution_count": 16,
   "id": "bd4f04b4-1da4-43ab-aa3c-26353fb3e14c",
   "metadata": {},
   "outputs": [],
   "source": [
    "d4={'name' : 'sudh' , 'mail_id' : 'ss@gmail.com' , 'name' : 'sudhanshu'}"
   ]
  },
  {
   "cell_type": "code",
   "execution_count": 17,
   "id": "16809e8b-35d2-42dd-bd09-525b1be6487c",
   "metadata": {},
   "outputs": [
    {
     "data": {
      "text/plain": [
       "'sudhanshu'"
      ]
     },
     "execution_count": 17,
     "metadata": {},
     "output_type": "execute_result"
    }
   ],
   "source": [
    "d4['name']"
   ]
  },
  {
   "cell_type": "code",
   "execution_count": 18,
   "id": "5a539c31-3cee-4713-87c4-498b31741e1b",
   "metadata": {},
   "outputs": [],
   "source": [
    "## If key is not unique ,then, when particular key is called, it over-writes the new value over old value."
   ]
  },
  {
   "cell_type": "code",
   "execution_count": 19,
   "id": "204d3350-d330-4907-846d-c12182dbeca4",
   "metadata": {},
   "outputs": [],
   "source": [
    "d5={'company' : 'pwskills' , 'courses' : [\"web dev\", \"data science\" ,\"java with dsa system design\"]}"
   ]
  },
  {
   "cell_type": "code",
   "execution_count": 20,
   "id": "cb03c694-36c6-4e2c-99ba-14ad9ec59112",
   "metadata": {},
   "outputs": [
    {
     "data": {
      "text/plain": [
       "{'company': 'pwskills',\n",
       " 'courses': ['web dev', 'data science', 'java with dsa system design']}"
      ]
     },
     "execution_count": 20,
     "metadata": {},
     "output_type": "execute_result"
    }
   ],
   "source": [
    "d5"
   ]
  },
  {
   "cell_type": "code",
   "execution_count": 22,
   "id": "d553f939-d5c3-4c4a-b5e7-28ed08ca9c92",
   "metadata": {},
   "outputs": [
    {
     "data": {
      "text/plain": [
       "'java with dsa system design'"
      ]
     },
     "execution_count": 22,
     "metadata": {},
     "output_type": "execute_result"
    }
   ],
   "source": [
    "d5['courses'][2]"
   ]
  },
  {
   "cell_type": "code",
   "execution_count": 26,
   "id": "3a53d9c5-49e9-4eb8-9a9f-7c201d7e3bb6",
   "metadata": {},
   "outputs": [],
   "source": [
    "d6= {'number' : [2,34,3,34,34] , 'assignment' : (1,2,3,4,5,6) , 'launch date' : {28,12,14} , 'class_time': {\"web dev\": 8, \"data science\":8 ,\"java with dsa system design\":7}}"
   ]
  },
  {
   "cell_type": "code",
   "execution_count": 27,
   "id": "99916efc-2941-44e1-9a21-f2549e740435",
   "metadata": {},
   "outputs": [
    {
     "data": {
      "text/plain": [
       "{'number': [2, 34, 3, 34, 34],\n",
       " 'assignment': (1, 2, 3, 4, 5, 6),\n",
       " 'launch date': {12, 14, 28},\n",
       " 'class_time': {'web dev': 8,\n",
       "  'data science': 8,\n",
       "  'java with dsa system design': 7}}"
      ]
     },
     "execution_count": 27,
     "metadata": {},
     "output_type": "execute_result"
    }
   ],
   "source": [
    "d6"
   ]
  },
  {
   "cell_type": "code",
   "execution_count": 28,
   "id": "c29a1d54-6273-474b-b07f-ba9e5de27841",
   "metadata": {},
   "outputs": [
    {
     "data": {
      "text/plain": [
       "7"
      ]
     },
     "execution_count": 28,
     "metadata": {},
     "output_type": "execute_result"
    }
   ],
   "source": [
    "d6['class_time']['java with dsa system design']"
   ]
  },
  {
   "cell_type": "code",
   "execution_count": 29,
   "id": "c4e34c24-d180-4ae7-be5d-1bbf9421b297",
   "metadata": {},
   "outputs": [
    {
     "data": {
      "text/plain": [
       "{'number': [2, 34, 3, 34, 34],\n",
       " 'assignment': (1, 2, 3, 4, 5, 6),\n",
       " 'launch date': {12, 14, 28},\n",
       " 'class_time': {'web dev': 8,\n",
       "  'data science': 8,\n",
       "  'java with dsa system design': 7}}"
      ]
     },
     "execution_count": 29,
     "metadata": {},
     "output_type": "execute_result"
    }
   ],
   "source": [
    "d6"
   ]
  },
  {
   "cell_type": "code",
   "execution_count": 30,
   "id": "0c7eea08-9bc1-4de0-8a24-37dde54b991b",
   "metadata": {},
   "outputs": [],
   "source": [
    "d6['mentor']=['sudhanshu','krish','anurag','hyder']"
   ]
  },
  {
   "cell_type": "code",
   "execution_count": 31,
   "id": "4f261854-375a-4608-901a-8a95bd96235e",
   "metadata": {},
   "outputs": [
    {
     "data": {
      "text/plain": [
       "{'number': [2, 34, 3, 34, 34],\n",
       " 'assignment': (1, 2, 3, 4, 5, 6),\n",
       " 'launch date': {12, 14, 28},\n",
       " 'class_time': {'web dev': 8,\n",
       "  'data science': 8,\n",
       "  'java with dsa system design': 7},\n",
       " 'mentor': ['sudhanshu', 'krish', 'anurag', 'hyder']}"
      ]
     },
     "execution_count": 31,
     "metadata": {},
     "output_type": "execute_result"
    }
   ],
   "source": [
    "d6"
   ]
  },
  {
   "cell_type": "code",
   "execution_count": 32,
   "id": "bcfac185-8f2b-4df4-9902-4ddcb26e059b",
   "metadata": {},
   "outputs": [],
   "source": [
    "del d6['number']"
   ]
  },
  {
   "cell_type": "code",
   "execution_count": 33,
   "id": "f18cec19-6de9-41b5-8235-e426f91ec5a6",
   "metadata": {},
   "outputs": [
    {
     "data": {
      "text/plain": [
       "{'assignment': (1, 2, 3, 4, 5, 6),\n",
       " 'launch date': {12, 14, 28},\n",
       " 'class_time': {'web dev': 8,\n",
       "  'data science': 8,\n",
       "  'java with dsa system design': 7},\n",
       " 'mentor': ['sudhanshu', 'krish', 'anurag', 'hyder']}"
      ]
     },
     "execution_count": 33,
     "metadata": {},
     "output_type": "execute_result"
    }
   ],
   "source": [
    "d6"
   ]
  },
  {
   "cell_type": "code",
   "execution_count": 35,
   "id": "1c1a2d83-fb31-4c58-8902-410386550c9a",
   "metadata": {},
   "outputs": [
    {
     "data": {
      "text/plain": [
       "['assignment', 'launch date', 'class_time', 'mentor']"
      ]
     },
     "execution_count": 35,
     "metadata": {},
     "output_type": "execute_result"
    }
   ],
   "source": [
    "list(d6.keys())"
   ]
  },
  {
   "cell_type": "code",
   "execution_count": 37,
   "id": "db2f33c2-4065-4b3c-9bb0-3d2fa9be3d24",
   "metadata": {},
   "outputs": [
    {
     "data": {
      "text/plain": [
       "[(1, 2, 3, 4, 5, 6),\n",
       " {12, 14, 28},\n",
       " {'web dev': 8, 'data science': 8, 'java with dsa system design': 7},\n",
       " ['sudhanshu', 'krish', 'anurag', 'hyder']]"
      ]
     },
     "execution_count": 37,
     "metadata": {},
     "output_type": "execute_result"
    }
   ],
   "source": [
    "list(d6.values())"
   ]
  },
  {
   "cell_type": "code",
   "execution_count": 38,
   "id": "e570727e-8057-4699-9481-47b329db0bd1",
   "metadata": {},
   "outputs": [
    {
     "data": {
      "text/plain": [
       "[('assignment', (1, 2, 3, 4, 5, 6)),\n",
       " ('launch date', {12, 14, 28}),\n",
       " ('class_time',\n",
       "  {'web dev': 8, 'data science': 8, 'java with dsa system design': 7}),\n",
       " ('mentor', ['sudhanshu', 'krish', 'anurag', 'hyder'])]"
      ]
     },
     "execution_count": 38,
     "metadata": {},
     "output_type": "execute_result"
    }
   ],
   "source": [
    "list(d6.items())"
   ]
  },
  {
   "cell_type": "code",
   "execution_count": 39,
   "id": "b6f08213-1b76-4119-adb0-144bd8cd2211",
   "metadata": {},
   "outputs": [
    {
     "data": {
      "text/plain": [
       "(1, 2, 3, 4, 5, 6)"
      ]
     },
     "execution_count": 39,
     "metadata": {},
     "output_type": "execute_result"
    }
   ],
   "source": [
    "d6.pop('assignment')"
   ]
  },
  {
   "cell_type": "code",
   "execution_count": 40,
   "id": "d321a1a4-035f-4b38-9abe-616708fa6a47",
   "metadata": {},
   "outputs": [
    {
     "data": {
      "text/plain": [
       "{'launch date': {12, 14, 28},\n",
       " 'class_time': {'web dev': 8,\n",
       "  'data science': 8,\n",
       "  'java with dsa system design': 7},\n",
       " 'mentor': ['sudhanshu', 'krish', 'anurag', 'hyder']}"
      ]
     },
     "execution_count": 40,
     "metadata": {},
     "output_type": "execute_result"
    }
   ],
   "source": [
    "d6"
   ]
  },
  {
   "cell_type": "code",
   "execution_count": 42,
   "id": "416db15b-b156-4fea-9234-dbe10c624fd8",
   "metadata": {},
   "outputs": [
    {
     "ename": "TypeError",
     "evalue": "pop expected at least 1 argument, got 0",
     "output_type": "error",
     "traceback": [
      "\u001b[0;31m---------------------------------------------------------------------------\u001b[0m",
      "\u001b[0;31mTypeError\u001b[0m                                 Traceback (most recent call last)",
      "Cell \u001b[0;32mIn[42], line 1\u001b[0m\n\u001b[0;32m----> 1\u001b[0m \u001b[43md6\u001b[49m\u001b[38;5;241;43m.\u001b[39;49m\u001b[43mpop\u001b[49m\u001b[43m(\u001b[49m\u001b[43m)\u001b[49m\n",
      "\u001b[0;31mTypeError\u001b[0m: pop expected at least 1 argument, got 0"
     ]
    }
   ],
   "source": [
    "d6.pop()"
   ]
  },
  {
   "cell_type": "code",
   "execution_count": 43,
   "id": "d758ddd8-4d14-40a0-a029-4a69232616ae",
   "metadata": {},
   "outputs": [],
   "source": [
    "## In case of list 'pop' deletes value of last element but in case of dictionary pop function needs atleast one argument specified for deletion"
   ]
  },
  {
   "cell_type": "code",
   "execution_count": 44,
   "id": "45295083-fee4-4598-8c9c-21438a2abe01",
   "metadata": {},
   "outputs": [],
   "source": [
    "## Dictionary is mutable"
   ]
  },
  {
   "cell_type": "code",
   "execution_count": 49,
   "id": "534422f2-6eb5-4a1e-85dc-377588e8266f",
   "metadata": {},
   "outputs": [
    {
     "name": "stdout",
     "output_type": "stream",
     "text": [
      "you will be part of A3 batch\n"
     ]
    }
   ],
   "source": [
    "marks=10\n",
    "if marks >=80 :\n",
    "    print(\"you will be a part of A0 batch\")\n",
    "elif marks>=60 and marks<80 :\n",
    "    print(\"you will be part of A1 batch\")\n",
    "elif marks>=40 and marks<60 :\n",
    "    print(\"you will be part of A2 batch\")\n",
    "else :\n",
    "    print(\"you will be part of A3 batch\")\n",
    "    \n"
   ]
  },
  {
   "cell_type": "code",
   "execution_count": 1,
   "id": "d17e1929-3249-44b0-be72-73debd08314c",
   "metadata": {},
   "outputs": [
    {
     "name": "stdin",
     "output_type": "stream",
     "text": [
      "enter your marks :  56\n"
     ]
    },
    {
     "name": "stdout",
     "output_type": "stream",
     "text": [
      "you will be part of A2 batch\n"
     ]
    }
   ],
   "source": [
    "marks=int(input(\"enter your marks : \"))\n",
    "if marks >=80 :\n",
    "    print(\"you will be a part of A0 batch\")\n",
    "elif marks>=60 and marks<80 :\n",
    "    print(\"you will be part of A1 batch\")\n",
    "elif marks>=40 and marks<60 :\n",
    "    print(\"you will be part of A2 batch\")\n",
    "else :\n",
    "    print(\"you will be part of A3 batch\")\n",
    "    "
   ]
  },
  {
   "cell_type": "code",
   "execution_count": 54,
   "id": "511d6cb2-4155-40fa-a8f3-acabae8e6f0c",
   "metadata": {},
   "outputs": [
    {
     "name": "stdin",
     "output_type": "stream",
     "text": [
      "enter your marks :  83\n"
     ]
    }
   ],
   "source": [
    "marks=int (input(\"enter your marks : \"))"
   ]
  },
  {
   "cell_type": "code",
   "execution_count": 55,
   "id": "ead7c855-4dd1-49ba-871d-620404cc6b48",
   "metadata": {},
   "outputs": [
    {
     "data": {
      "text/plain": [
       "83"
      ]
     },
     "execution_count": 55,
     "metadata": {},
     "output_type": "execute_result"
    }
   ],
   "source": [
    "marks"
   ]
  },
  {
   "cell_type": "code",
   "execution_count": 56,
   "id": "bc73da5e-a65f-49af-a18f-26044cf71c18",
   "metadata": {},
   "outputs": [
    {
     "data": {
      "text/plain": [
       "int"
      ]
     },
     "execution_count": 56,
     "metadata": {},
     "output_type": "execute_result"
    }
   ],
   "source": [
    "type(marks)"
   ]
  },
  {
   "cell_type": "code",
   "execution_count": 2,
   "id": "cc6b539f-a2b5-4769-b265-af3337cc4eca",
   "metadata": {},
   "outputs": [
    {
     "name": "stdin",
     "output_type": "stream",
     "text": [
      "enter the price- 2000\n"
     ]
    },
    {
     "name": "stdout",
     "output_type": "stream",
     "text": [
      "i will not purchase\n"
     ]
    }
   ],
   "source": [
    "price= int(input(\"enter the price-\"))\n",
    "if price >1000 :\n",
    "    print(\"i will not purchase\")\n",
    "else :\n",
    "    print(\"i will purchase\")"
   ]
  },
  {
   "cell_type": "code",
   "execution_count": 4,
   "id": "e9d3b43e-7a76-4683-8517-c40c8a03e49b",
   "metadata": {},
   "outputs": [
    {
     "name": "stdin",
     "output_type": "stream",
     "text": [
      "enter the price- 1500\n"
     ]
    },
    {
     "name": "stdout",
     "output_type": "stream",
     "text": [
      "i will not purchase\n",
      "it's ok\n"
     ]
    }
   ],
   "source": [
    "price= int(input(\"enter the price-\"))\n",
    "if price >1000 :\n",
    "    print(\"i will not purchase\")\n",
    "    if price >5000 :\n",
    "        print(\"this is too much\")\n",
    "    elif price<2000 :\n",
    "        print(\"it's ok\")\n",
    "elif price < 1000 :\n",
    "    print(\"i will purchase\")\n",
    "else :\n",
    "    print(\"not interested\")\n",
    "    print(\"i will not purchase\")\n",
    "    if price >5000 :\n",
    "        print(\"this is too much\")\n",
    "    elif price<2000 :\n",
    "        print(\"it's ok\")\n",
    "    \n"
   ]
  },
  {
   "cell_type": "code",
   "execution_count": 7,
   "id": "9050cb17-94f0-4860-857a-70ac3d39d742",
   "metadata": {},
   "outputs": [],
   "source": [
    "## It follows the concept of code written in particular blocks and the code will run accordingly to the nested if, elif and else statements"
   ]
  },
  {
   "cell_type": "code",
   "execution_count": 8,
   "id": "a95a5a4e-9a3b-4972-878d-cba136e92c69",
   "metadata": {},
   "outputs": [],
   "source": [
    "l=[1,2,3,3,4,5,6,7,8]"
   ]
  },
  {
   "cell_type": "code",
   "execution_count": 13,
   "id": "769dd7d4-e8a0-4086-b6f5-d44e64d6a413",
   "metadata": {},
   "outputs": [
    {
     "name": "stdout",
     "output_type": "stream",
     "text": [
      "2\n",
      "3\n",
      "4\n",
      "4\n",
      "5\n",
      "6\n",
      "7\n",
      "8\n",
      "9\n"
     ]
    },
    {
     "data": {
      "text/plain": [
       "[2, 3, 4, 4, 5, 6, 7, 8, 9]"
      ]
     },
     "execution_count": 13,
     "metadata": {},
     "output_type": "execute_result"
    }
   ],
   "source": [
    "l1=[]\n",
    "for i in l :\n",
    "    print(i+1)\n",
    "    l1.append(i+1)\n",
    "l1"
   ]
  },
  {
   "cell_type": "code",
   "execution_count": 14,
   "id": "4cadba67-adbf-40f0-926b-91f82190de53",
   "metadata": {},
   "outputs": [
    {
     "data": {
      "text/plain": [
       "[1, 2, 3, 3, 4, 5, 6, 7, 8]"
      ]
     },
     "execution_count": 14,
     "metadata": {},
     "output_type": "execute_result"
    }
   ],
   "source": [
    "l"
   ]
  },
  {
   "cell_type": "code",
   "execution_count": 15,
   "id": "83fce36d-3448-4f56-8ef0-16e2f651963a",
   "metadata": {},
   "outputs": [],
   "source": [
    "l=[\"sudh\", \"kumar\" , \"pwskills\", \"course\"]"
   ]
  },
  {
   "cell_type": "code",
   "execution_count": 18,
   "id": "c7b737fa-19e4-4716-b4ce-cdf8ebbe33c9",
   "metadata": {},
   "outputs": [
    {
     "name": "stdout",
     "output_type": "stream",
     "text": [
      "sudh\n",
      "kumar\n",
      "pwskills\n",
      "course\n"
     ]
    }
   ],
   "source": [
    "l1= []\n",
    "for i in l :\n",
    "    print(i)\n",
    "    l1.append(i.upper())"
   ]
  },
  {
   "cell_type": "code",
   "execution_count": 19,
   "id": "f73316f0-7295-42f0-b55e-80b807c6414d",
   "metadata": {},
   "outputs": [
    {
     "data": {
      "text/plain": [
       "['SUDH', 'KUMAR', 'PWSKILLS', 'COURSE']"
      ]
     },
     "execution_count": 19,
     "metadata": {},
     "output_type": "execute_result"
    }
   ],
   "source": [
    "l1"
   ]
  },
  {
   "cell_type": "code",
   "execution_count": 20,
   "id": "b926a792-8eb5-4f3d-8a5a-ff023d4695b7",
   "metadata": {},
   "outputs": [],
   "source": [
    "l = [1,2,3,4,4,\"sudh\", \"kumar\", 324,34.456, \"abc\"]"
   ]
  },
  {
   "cell_type": "code",
   "execution_count": 22,
   "id": "28e09012-cead-419e-9033-9749c0821095",
   "metadata": {},
   "outputs": [],
   "source": [
    "l1_num =[]\n",
    "l2_str =[]\n",
    "for i in l :\n",
    "    if type(i) == int or type(i) == float :\n",
    "        l1_num.append(i)\n",
    "    else :\n",
    "        l2_str.append(i)"
   ]
  },
  {
   "cell_type": "code",
   "execution_count": 23,
   "id": "d190569a-856b-4dd7-b238-95c4fb846975",
   "metadata": {},
   "outputs": [
    {
     "data": {
      "text/plain": [
       "[1, 2, 3, 4, 4, 324, 34.456]"
      ]
     },
     "execution_count": 23,
     "metadata": {},
     "output_type": "execute_result"
    }
   ],
   "source": [
    "l1_num"
   ]
  },
  {
   "cell_type": "code",
   "execution_count": 24,
   "id": "9ec2fd41-3d93-4945-bb45-58af880baa42",
   "metadata": {},
   "outputs": [
    {
     "data": {
      "text/plain": [
       "['sudh', 'kumar', 'abc']"
      ]
     },
     "execution_count": 24,
     "metadata": {},
     "output_type": "execute_result"
    }
   ],
   "source": [
    "l2_str"
   ]
  },
  {
   "cell_type": "code",
   "execution_count": null,
   "id": "f21c8c3e-0c26-4a9a-8d23-e7040ba82e56",
   "metadata": {},
   "outputs": [],
   "source": []
  }
 ],
 "metadata": {
  "kernelspec": {
   "display_name": "Python 3 (ipykernel)",
   "language": "python",
   "name": "python3"
  },
  "language_info": {
   "codemirror_mode": {
    "name": "ipython",
    "version": 3
   },
   "file_extension": ".py",
   "mimetype": "text/x-python",
   "name": "python",
   "nbconvert_exporter": "python",
   "pygments_lexer": "ipython3",
   "version": "3.10.8"
  }
 },
 "nbformat": 4,
 "nbformat_minor": 5
}
